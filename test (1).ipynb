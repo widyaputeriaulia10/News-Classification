{
 "cells": [
  {
   "cell_type": "code",
   "execution_count": 7,
   "id": "animated-bristol",
   "metadata": {
    "ExecuteTime": {
     "end_time": "2022-12-30T10:52:49.146602Z",
     "start_time": "2022-12-30T10:52:48.517210Z"
    }
   },
   "outputs": [
    {
     "name": "stdout",
     "output_type": "stream",
     "text": [
      "{'Unusual': 'True'}\n"
     ]
    }
   ],
   "source": [
    "\n",
    "import requests\n",
    "\n",
    "query = {\n",
    "    \"title\" : 'Kemenkumham Bentuk Satgas Pemantauan dan Pengamanan KTT G20'\n",
    "}\n",
    "res_1 = requests.post('http://172.17.61.220:2012/predict_unusual', json = query)\n",
    "\n",
    "data = res_1.json()\n",
    "print(data)"
   ]
  },
  {
   "cell_type": "code",
   "execution_count": null,
   "id": "bright-entry",
   "metadata": {},
   "outputs": [],
   "source": []
  }
 ],
 "metadata": {
  "kernelspec": {
   "display_name": "uli-env",
   "language": "python",
   "name": "uli-env"
  },
  "language_info": {
   "codemirror_mode": {
    "name": "ipython",
    "version": 3
   },
   "file_extension": ".py",
   "mimetype": "text/x-python",
   "name": "python",
   "nbconvert_exporter": "python",
   "pygments_lexer": "ipython3",
   "version": "3.6.3"
  },
  "varInspector": {
   "cols": {
    "lenName": 16,
    "lenType": 16,
    "lenVar": 40
   },
   "kernels_config": {
    "python": {
     "delete_cmd_postfix": "",
     "delete_cmd_prefix": "del ",
     "library": "var_list.py",
     "varRefreshCmd": "print(var_dic_list())"
    },
    "r": {
     "delete_cmd_postfix": ") ",
     "delete_cmd_prefix": "rm(",
     "library": "var_list.r",
     "varRefreshCmd": "cat(var_dic_list()) "
    }
   },
   "types_to_exclude": [
    "module",
    "function",
    "builtin_function_or_method",
    "instance",
    "_Feature"
   ],
   "window_display": false
  }
 },
 "nbformat": 4,
 "nbformat_minor": 5
}
